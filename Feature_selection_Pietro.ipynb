{
 "cells": [
  {
   "cell_type": "code",
   "execution_count": 1,
   "metadata": {
    "id": "EkxtnVnblq1f"
   },
   "outputs": [],
   "source": [
    "# Import necessary libraries\n",
    "import pandas as pd\n",
    "from sklearn.linear_model import LogisticRegression\n",
    "from sklearn.svm import SVC\n",
    "from sklearn.linear_model import Lasso\n",
    "from sklearn.model_selection import train_test_split\n",
    "from sklearn.preprocessing import StandardScaler\n",
    "from sklearn.feature_selection import SelectKBest, f_classif\n",
    "from sklearn.feature_selection import RFE\n",
    "\n",
    "## now we import data"
   ]
  },
  {
   "cell_type": "code",
   "execution_count": null,
   "metadata": {
    "id": "JD--lsNGlq1h"
   },
   "outputs": [],
   "source": [
    "# Load the data into a Pandas dataframe\n",
    "df = pd.read_csv('train.csv')\n",
    "X = df.drop('Activity', axis=1)\n",
    "y = df['Activity']"
   ]
  },
  {
   "cell_type": "code",
   "execution_count": null,
   "metadata": {
    "id": "HMcYBXXMlq1h"
   },
   "outputs": [],
   "source": [
    "# Split the data into training and testing sets\n",
    "X_train, X_test, y_train, y_test = train_test_split(X, y, test_size=0.3, random_state=42)"
   ]
  },
  {
   "cell_type": "code",
   "execution_count": null,
   "metadata": {
    "id": "04bHnoqElq1h"
   },
   "outputs": [],
   "source": [
    "nunique = X_train.nunique()\n",
    "unique_features = nunique[nunique == 1].index.tolist()\n",
    "X_train = X_train.drop(unique_features, axis=1)\n",
    "X_test = X_test.drop(unique_features, axis=1)"
   ]
  },
  {
   "cell_type": "code",
   "execution_count": null,
   "metadata": {
    "id": "kfAyC7hNlq1h"
   },
   "outputs": [],
   "source": [
    "n_features = [1773, 1500, 1200, 900, 600, 300, 100, 50, 10]"
   ]
  },
  {
   "cell_type": "code",
   "execution_count": null,
   "metadata": {
    "id": "9rbqVKB8lq1i",
    "outputId": "c0744dfa-cc9f-4825-922a-ab21ce73675d"
   },
   "outputs": [
    {
     "name": "stdout",
     "output_type": "stream",
     "text": [
      "SVM accuracy with 1773 features: 0.7868561278863233\n",
      "SVM accuracy with 1500 features: 0.7877442273534636\n",
      "SVM accuracy with 1200 features: 0.7850799289520426\n",
      "SVM accuracy with 900 features: 0.7859680284191829\n",
      "SVM accuracy with 600 features: 0.7841918294849023\n",
      "SVM accuracy with 300 features: 0.7770870337477798\n",
      "SVM accuracy with 100 features: 0.7761989342806395\n",
      "SVM accuracy with 50 features: 0.7726465364120781\n",
      "SVM accuracy with 10 features: 0.7468916518650088\n",
      "\n",
      "###############\n",
      "\n",
      "Logistic Regression accuracy with 1773 features: 0.761101243339254\n",
      "Logistic Regression accuracy with 1500 features: 0.7575488454706927\n",
      "Logistic Regression accuracy with 1200 features: 0.7566607460035524\n",
      "Logistic Regression accuracy with 900 features: 0.7371225577264654\n",
      "Logistic Regression accuracy with 600 features: 0.7451154529307282\n",
      "Logistic Regression accuracy with 300 features: 0.7406749555950266\n",
      "Logistic Regression accuracy with 100 features: 0.7486678507992895\n",
      "Logistic Regression accuracy with 50 features: 0.7451154529307282\n",
      "Logistic Regression accuracy with 10 features: 0.7477797513321492\n"
     ]
    }
   ],
   "source": [
    "# Lasso\n",
    "lasso = Lasso(alpha=0.1)\n",
    "lasso.fit(X_train, y_train)\n",
    "coef = pd.Series(lasso.coef_, index=X_train.columns)\n",
    "coef_sorted = coef.abs().sort_values(ascending=False)\n",
    "\n",
    "for k in n_features:\n",
    "    top_k_features = coef_sorted[:k].index.tolist()\n",
    "    selected_features_train = X_train[top_k_features]\n",
    "    selected_features_test = X_test[top_k_features]\n",
    "    svm = SVC()\n",
    "    svm.fit(selected_features_train, y_train)\n",
    "    svm_score = svm.score(selected_features_test, y_test)\n",
    "    print(\"SVM accuracy with\", k, \"features:\", svm_score)\n",
    "\n",
    "print()\n",
    "print(\"###############\")\n",
    "print()\n",
    "\n",
    "for k in n_features:\n",
    "    top_k_features = coef_sorted[:k].index.tolist()\n",
    "    selected_features_train = X_train[top_k_features]\n",
    "    selected_features_test = X_test[top_k_features]\n",
    "    lr = LogisticRegression(max_iter=10000)\n",
    "    lr.fit(selected_features_train, y_train)\n",
    "    lr_score = lr.score(selected_features_test, y_test)\n",
    "    print(\"Logistic Regression accuracy with\", k, \"features:\", lr_score)"
   ]
  },
  {
   "cell_type": "code",
   "execution_count": null,
   "metadata": {
    "id": "BlK8TpOalq1j",
    "outputId": "f626fe9d-976c-4360-d25c-c48711290d64"
   },
   "outputs": [
    {
     "name": "stdout",
     "output_type": "stream",
     "text": [
      "SVM accuracy with 1773 features: 0.7868561278863233\n",
      "SVM accuracy with 1500 features: 0.7824156305506217\n",
      "SVM accuracy with 1200 features: 0.7859680284191829\n",
      "SVM accuracy with 900 features: 0.7806394316163411\n",
      "SVM accuracy with 600 features: 0.7788632326820604\n",
      "SVM accuracy with 300 features: 0.7761989342806395\n",
      "SVM accuracy with 100 features: 0.761101243339254\n",
      "SVM accuracy with 50 features: 0.7628774422735346\n",
      "SVM accuracy with 10 features: 0.7513321492007105\n",
      "\n",
      "###############\n",
      "\n",
      "Logistic Regression accuracy with 1773 features: 0.761101243339254\n",
      "Logistic Regression accuracy with 1500 features: 0.7628774422735346\n",
      "Logistic Regression accuracy with 1200 features: 0.761101243339254\n",
      "Logistic Regression accuracy with 900 features: 0.7548845470692718\n",
      "Logistic Regression accuracy with 600 features: 0.7539964476021315\n",
      "Logistic Regression accuracy with 300 features: 0.7513321492007105\n",
      "Logistic Regression accuracy with 100 features: 0.7522202486678508\n",
      "Logistic Regression accuracy with 50 features: 0.7531083481349912\n",
      "Logistic Regression accuracy with 10 features: 0.7460035523978685\n"
     ]
    }
   ],
   "source": [
    "# SelectKBest\n",
    "for k in n_features:\n",
    "    kbest = SelectKBest(f_classif, k=k)\n",
    "    kbest.fit(X_train, y_train)\n",
    "    top_k_indices = kbest.get_support(indices=True)\n",
    "    top_k_features = X_train.columns[top_k_indices]\n",
    "    selected_features_train = X_train[top_k_features]\n",
    "    selected_features_test = X_test[top_k_features]\n",
    "    svm = SVC()\n",
    "    svm.fit(selected_features_train, y_train)\n",
    "    svm_score = svm.score(selected_features_test, y_test)\n",
    "    print(\"SVM accuracy with\", k, \"features:\", svm_score)\n",
    "\n",
    "print()\n",
    "print(\"###############\")\n",
    "print()\n",
    "\n",
    "for k in n_features:\n",
    "    kbest = SelectKBest(f_classif, k=k)\n",
    "    kbest.fit(X_train, y_train)\n",
    "    top_k_indices = kbest.get_support(indices=True)\n",
    "    top_k_features = X_train.columns[top_k_indices]\n",
    "    selected_features_train = X_train[top_k_features]\n",
    "    selected_features_test = X_test[top_k_features]\n",
    "    lr = LogisticRegression(max_iter=10000)\n",
    "    lr.fit(selected_features_train, y_train)\n",
    "    lr_score = lr.score(selected_features_test, y_test)\n",
    "    print(\"Logistic Regression accuracy with\", k, \"features:\", lr_score)"
   ]
  }
 ],
 "metadata": {
  "colab": {
   "provenance": []
  },
  "kernelspec": {
   "display_name": "Python 3 (ipykernel)",
   "language": "python",
   "name": "python3"
  },
  "language_info": {
   "codemirror_mode": {
    "name": "ipython",
    "version": 3
   },
   "file_extension": ".py",
   "mimetype": "text/x-python",
   "name": "python",
   "nbconvert_exporter": "python",
   "pygments_lexer": "ipython3",
   "version": "3.9.15"
  }
 },
 "nbformat": 4,
 "nbformat_minor": 1
}
